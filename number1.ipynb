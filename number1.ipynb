{
 "cells": [
  {
   "cell_type": "markdown",
   "id": "c5aaaaf0-9fec-4e6a-bb51-497c70e83aff",
   "metadata": {},
   "source": [
    "## 2)"
   ]
  },
  {
   "cell_type": "code",
   "execution_count": null,
   "id": "0fca2641-004f-4309-b339-21885cb1d28d",
   "metadata": {},
   "outputs": [],
   "source": [
    "import numpy as np"
   ]
  },
  {
   "cell_type": "code",
   "execution_count": null,
   "id": "3926f66e-75de-4cc4-9412-25ca410908c2",
   "metadata": {},
   "outputs": [],
   "source": [
    "dct{}\n"
   ]
  },
  {
   "cell_type": "code",
   "execution_count": null,
   "id": "b2f12f43-73d9-4fa0-881e-0071c60168db",
   "metadata": {},
   "outputs": [],
   "source": [
    "dct = {\n",
    "    'apple': 1,\n",
    "    'banana': 2.0,\n",
    "    'cherry': \"iii\"\n",
    "}\n",
    "print(dct)"
   ]
  },
  {
   "cell_type": "code",
   "execution_count": null,
   "id": "bd39ac39-a505-418f-86f1-a38552cdb25b",
   "metadata": {},
   "outputs": [],
   "source": []
  },
  {
   "cell_type": "code",
   "execution_count": null,
   "id": "6c2d20c7-3b8a-4bc1-a7b0-ec097cedd054",
   "metadata": {},
   "outputs": [],
   "source": [
    " "
   ]
  },
  {
   "cell_type": "code",
   "execution_count": null,
   "id": "378f61e6-2709-4466-9df5-0bac2144fe54",
   "metadata": {},
   "outputs": [],
   "source": []
  }
 ],
 "metadata": {
  "kernelspec": {
   "display_name": "Python 3 (ipykernel)",
   "language": "python",
   "name": "python3"
  },
  "language_info": {
   "codemirror_mode": {
    "name": "ipython",
    "version": 3
   },
   "file_extension": ".py",
   "mimetype": "text/x-python",
   "name": "python",
   "nbconvert_exporter": "python",
   "pygments_lexer": "ipython3",
   "version": "3.12.6"
  }
 },
 "nbformat": 4,
 "nbformat_minor": 5
}
