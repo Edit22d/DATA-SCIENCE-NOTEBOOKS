{
 "cells": [
  {
   "cell_type": "markdown",
   "id": "53b3a7c2-ff2c-4c62-ab95-d4b67f214133",
   "metadata": {},
   "source": [
    "## BUNUS QUESTION"
   ]
  },
  {
   "cell_type": "code",
   "execution_count": 2,
   "id": "3956832d-f567-4c8f-bb73-7db14081b3ea",
   "metadata": {},
   "outputs": [],
   "source": [
    "import numpy as np"
   ]
  },
  {
   "cell_type": "markdown",
   "id": "62c20486-e0da-4852-986f-a4645ac64af0",
   "metadata": {},
   "source": [
    "## part a)"
   ]
  },
  {
   "cell_type": "markdown",
   "id": "59c00276-38d9-4558-a241-d6ff70ae3a92",
   "metadata": {},
   "source": [
    "## multiplying 5x3 matrix by a 3x2 matrix"
   ]
  },
  {
   "cell_type": "markdown",
   "id": "9d87e5a0-bb69-4a95-add6-b076b773baf1",
   "metadata": {},
   "source": [
    "## we first create a 5x3 matrix and name it as A"
   ]
  },
  {
   "cell_type": "code",
   "execution_count": 6,
   "id": "8c367c4f-db20-4a22-860a-aa7fb5c7025c",
   "metadata": {},
   "outputs": [
    {
     "name": "stdout",
     "output_type": "stream",
     "text": [
      "[[1 2 3]\n",
      " [2 0 3]\n",
      " [6 7 1]\n",
      " [2 1 6]\n",
      " [3 2 0]]\n"
     ]
    }
   ],
   "source": [
    "A = np.array([[1,2,3],[2,0,3],[6,7,1],[2,1,6],[3,2,0]])\n",
    "print(A)"
   ]
  },
  {
   "cell_type": "markdown",
   "id": "2c668831-2afc-4957-80d7-8e69350cc9e3",
   "metadata": {},
   "source": [
    "## then we create another one of 3x2 matrix and name it as B"
   ]
  },
  {
   "cell_type": "code",
   "execution_count": 7,
   "id": "0b44bea3-ed2f-45b8-8b93-5e9d44ac8e3d",
   "metadata": {},
   "outputs": [
    {
     "name": "stdout",
     "output_type": "stream",
     "text": [
      "[[0 2]\n",
      " [4 5]\n",
      " [1 9]]\n"
     ]
    }
   ],
   "source": [
    "B = np.array([[0,2],[4,5],[1,9]])\n",
    "print(B)"
   ]
  },
  {
   "cell_type": "markdown",
   "id": "ef7f9512-e790-42c8-bdff-0178d0126c6e",
   "metadata": {},
   "source": [
    "## now we are going to multiply our matrix A and B by using the method below"
   ]
  },
  {
   "cell_type": "code",
   "execution_count": 8,
   "id": "c739dbe2-d4dc-485d-8019-356db942b203",
   "metadata": {},
   "outputs": [
    {
     "name": "stdout",
     "output_type": "stream",
     "text": [
      "[[11 39]\n",
      " [ 3 31]\n",
      " [29 56]\n",
      " [10 63]\n",
      " [ 8 16]]\n"
     ]
    }
   ],
   "source": [
    "product = np.dot(A,B)\n",
    "print(product)"
   ]
  },
  {
   "cell_type": "markdown",
   "id": "0b950b00-6806-45e8-a275-e75e4206ab85",
   "metadata": {},
   "source": [
    "## part b)"
   ]
  },
  {
   "cell_type": "markdown",
   "id": "03d78321-89c1-4d04-899d-8b13a9065e8f",
   "metadata": {},
   "source": [
    "## creating a 3x3 identity matrix,here we are going to use the method below;"
   ]
  },
  {
   "cell_type": "code",
   "execution_count": 10,
   "id": "0c1936ff-bf50-425b-80d5-3ab92bcf4c3e",
   "metadata": {},
   "outputs": [
    {
     "name": "stdout",
     "output_type": "stream",
     "text": [
      "[[0 1 0]\n",
      " [1 0 1]\n",
      " [0 1 0]]\n"
     ]
    }
   ],
   "source": [
    "identity = np.array([[0,1,0],[1,0,1],[0,1,0]])\n",
    "print(identity)"
   ]
  },
  {
   "cell_type": "markdown",
   "id": "7fd796c1-b9c5-481b-a732-f43f1106be73",
   "metadata": {},
   "source": [
    "## part c)"
   ]
  },
  {
   "cell_type": "markdown",
   "id": "042ede07-16c4-48ed-811f-a5b238144478",
   "metadata": {},
   "source": [
    "## we are asked to create a vector ranging from 10 to 49, below are the method of creating ranging vector;"
   ]
  },
  {
   "cell_type": "code",
   "execution_count": 11,
   "id": "c5d3924c-579c-4000-a048-c720a77a4042",
   "metadata": {},
   "outputs": [
    {
     "name": "stdout",
     "output_type": "stream",
     "text": [
      "[10 11 12 13 14 15 16 17 18 19 20 21 22 23 24 25 26 27 28 29 30 31 32 33\n",
      " 34 35 36 37 38 39 40 41 42 43 44 45 46 47 48 49]\n"
     ]
    }
   ],
   "source": [
    "vector = np.arange(10,50)\n",
    "print(vector)"
   ]
  },
  {
   "cell_type": "markdown",
   "id": "a8285a43-cb56-4edf-8e64-6a1bcbcbbfb0",
   "metadata": {},
   "source": [
    "## part d)"
   ]
  },
  {
   "cell_type": "markdown",
   "id": "dcede71c-1c51-4ef0-a9ba-b1f8d33c4c77",
   "metadata": {},
   "source": [
    "##  we are creating a null vector of size 10 using the method below;"
   ]
  },
  {
   "cell_type": "code",
   "execution_count": 12,
   "id": "9605441c-fdc6-49df-858a-b438d21e32ee",
   "metadata": {},
   "outputs": [
    {
     "name": "stdout",
     "output_type": "stream",
     "text": [
      "[0. 0. 0. 0. 0. 0. 0. 0. 0. 0.]\n"
     ]
    }
   ],
   "source": [
    "vector_null = np.zeros(10)\n",
    "print(vector_null)"
   ]
  },
  {
   "cell_type": "markdown",
   "id": "dc1c6ab9-ffdc-4872-8bfd-fc58db030ff0",
   "metadata": {},
   "source": [
    "## e)"
   ]
  },
  {
   "cell_type": "markdown",
   "id": "976a6513-be4f-4588-84a6-f1b6e6a7ba8e",
   "metadata": {},
   "source": [
    "## we are asked to create a 3x3x3 array with random values,below is the method to use with it's output; "
   ]
  },
  {
   "cell_type": "code",
   "execution_count": 22,
   "id": "567ba094-0937-4283-be3b-04f644b43ad9",
   "metadata": {},
   "outputs": [
    {
     "name": "stdout",
     "output_type": "stream",
     "text": [
      "[[[0 1 1]\n",
      "  [1 1 2]\n",
      "  [0 1 1]]\n",
      "\n",
      " [[0 0 1]\n",
      "  [1 0 1]\n",
      "  [1 1 1]]\n",
      "\n",
      " [[0 1 2]\n",
      "  [2 2 0]\n",
      "  [2 2 0]]]\n"
     ]
    }
   ],
   "source": [
    "from numpy import random\n",
    "x = random.poisson(size=(3,3,3))\n",
    "print(x)"
   ]
  },
  {
   "cell_type": "markdown",
   "id": "b5c328d6-5014-4c21-8d67-1af48d8da437",
   "metadata": {},
   "source": [
    "## part f)"
   ]
  },
  {
   "cell_type": "markdown",
   "id": "d0072aaa-960e-48da-b382-17db2139229d",
   "metadata": {},
   "source": [
    "### to create a 5x5 matrix with values 1,2,3,4 just below the diagonal, here we use the method below;"
   ]
  },
  {
   "cell_type": "code",
   "execution_count": 26,
   "id": "105845c7-8414-425d-8a94-a7435b414217",
   "metadata": {},
   "outputs": [
    {
     "name": "stdout",
     "output_type": "stream",
     "text": [
      "[[0 0 0 0 0]\n",
      " [1 0 0 0 0]\n",
      " [0 2 0 0 0]\n",
      " [0 0 3 0 0]\n",
      " [0 0 0 4 0]]\n"
     ]
    }
   ],
   "source": [
    "matrix = np.zeros((5,5),dtype=int)\n",
    "mattrix = np.fill_diagonal(matrix[1:], [1, 2, 3, 4])\n",
    "print(matrix)\n"
   ]
  },
  {
   "cell_type": "markdown",
   "id": "8ccaa286-916d-48eb-a6ce-f4799edf2491",
   "metadata": {},
   "source": [
    "## part g)"
   ]
  },
  {
   "cell_type": "markdown",
   "id": "e9ed462b-82db-4b78-b50a-e36692f6354c",
   "metadata": {},
   "source": [
    "## normalising a 5x5 random matrix ,we use the following method below;\n"
   ]
  },
  {
   "cell_type": "code",
   "execution_count": 29,
   "id": "10280a3e-6b6e-4004-b872-a65648622c18",
   "metadata": {},
   "outputs": [
    {
     "name": "stdout",
     "output_type": "stream",
     "text": [
      "[[ 0.15488152  0.6457614   0.8707534  -1.22772191  0.32180602]\n",
      " [ 1.08850919 -1.07880514  0.25116933  0.31978676 -0.54662236]\n",
      " [-0.04361493 -0.2958405   0.49454431 -0.76065683 -0.85547971]\n",
      " [-1.97737131  0.72914718 -0.17244216  0.41590912 -0.64615908]\n",
      " [-1.0818065  -0.58171724 -1.65889586 -0.50050332  0.55494635]]\n"
     ]
    }
   ],
   "source": [
    "from numpy import  random\n",
    "x = random.normal(size =(5,5))\n",
    "print(x)"
   ]
  },
  {
   "cell_type": "markdown",
   "id": "c4b0caef-12ff-4b2e-9e60-9c514741843f",
   "metadata": {},
   "source": [
    "## part h)"
   ]
  },
  {
   "cell_type": "markdown",
   "id": "86e6dba0-b897-40ee-b9b1-1b1dd9a6b6ac",
   "metadata": {},
   "source": [
    "## how to get dates of yesterday,today and tomorrow?\n",
    "## below are the formula and methods;"
   ]
  },
  {
   "cell_type": "code",
   "execution_count": 34,
   "id": "af89e292-1830-43da-ba4d-851834dadf9c",
   "metadata": {},
   "outputs": [
    {
     "name": "stdout",
     "output_type": "stream",
     "text": [
      "2024-12-10\n"
     ]
    }
   ],
   "source": [
    "today = np.datetime64('today','D')## this how we get dates of today\n",
    "print(today)"
   ]
  },
  {
   "cell_type": "code",
   "execution_count": 35,
   "id": "a8310944-56da-45bf-993c-adc9454bf3e3",
   "metadata": {},
   "outputs": [
    {
     "name": "stdout",
     "output_type": "stream",
     "text": [
      "2024-12-09\n"
     ]
    }
   ],
   "source": [
    "yesterday = today-np.timedelta64(1,'D')## to get for yesterday ,we subtract today from np.timedelta64\n",
    "print(yesterday)"
   ]
  },
  {
   "cell_type": "code",
   "execution_count": 36,
   "id": "c8002c75-b62e-468f-8fab-020738e8b022",
   "metadata": {},
   "outputs": [
    {
     "name": "stdout",
     "output_type": "stream",
     "text": [
      "2024-12-11\n"
     ]
    }
   ],
   "source": [
    "tomorrow = today + np.timedelta64(1,'D')## to get fo tomorrow , we just add today to np.timedelta64\n",
    "print(tomorrow)"
   ]
  },
  {
   "cell_type": "markdown",
   "id": "2bc17486-d574-4989-ab5a-765cec71e9e9",
   "metadata": {},
   "source": [
    "## part i)"
   ]
  },
  {
   "cell_type": "markdown",
   "id": "47b3497e-5f3e-4133-87dc-c147d53956b2",
   "metadata": {},
   "source": [
    "## to find the indices of non-zero elements from [1,2,0,0,4,0].still we use numpy as np "
   ]
  },
  {
   "cell_type": "code",
   "execution_count": 38,
   "id": "6a627e1a-816d-4c4e-9093-e6cea2601cd0",
   "metadata": {},
   "outputs": [
    {
     "name": "stdout",
     "output_type": "stream",
     "text": [
      "[0 1 4]\n"
     ]
    }
   ],
   "source": [
    "import numpy as np\n",
    "x= np.array([1, 2, 0, 0, 4, 0])\n",
    "non_zero_indices = np.nonzero(x)\n",
    "print( non_zero_indices[0])\n"
   ]
  },
  {
   "cell_type": "code",
   "execution_count": null,
   "id": "7e35c50f-193e-4d86-9bca-4528d0e4ee72",
   "metadata": {},
   "outputs": [],
   "source": []
  }
 ],
 "metadata": {
  "kernelspec": {
   "display_name": "Python 3 (ipykernel)",
   "language": "python",
   "name": "python3"
  },
  "language_info": {
   "codemirror_mode": {
    "name": "ipython",
    "version": 3
   },
   "file_extension": ".py",
   "mimetype": "text/x-python",
   "name": "python",
   "nbconvert_exporter": "python",
   "pygments_lexer": "ipython3",
   "version": "3.12.6"
  }
 },
 "nbformat": 4,
 "nbformat_minor": 5
}
