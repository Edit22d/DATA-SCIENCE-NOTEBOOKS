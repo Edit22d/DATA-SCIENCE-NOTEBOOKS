{
 "cells": [
  {
   "cell_type": "markdown",
   "id": "241d5afa-422b-4b22-bd46-a04570175175",
   "metadata": {},
   "source": [
    "## Number 2 "
   ]
  },
  {
   "cell_type": "markdown",
   "id": "d8a87f25-b6d9-4636-b472-4b8426080447",
   "metadata": {},
   "source": [
    "## Exploratory Data Analysis"
   ]
  },
  {
   "cell_type": "markdown",
   "id": "f3a455eb-d974-47b8-b9cf-9c9cf902dfa4",
   "metadata": {},
   "source": [
    "## part a) the major whic have the higest total studay hours per week.\n",
    "## here we first import the libraries like import numpy as np, import pandas as pd and also the student DataFrame that we are going to use in aswering the following numbers below;"
   ]
  },
  {
   "cell_type": "code",
   "execution_count": 3,
   "id": "9f641a6e-f51b-425c-9727-393090a1205c",
   "metadata": {},
   "outputs": [],
   "source": [
    "import numpy as np"
   ]
  },
  {
   "cell_type": "code",
   "execution_count": 4,
   "id": "3ed2fa9a-a382-4190-b91b-374b2c0d7102",
   "metadata": {},
   "outputs": [],
   "source": [
    "import pandas as pd"
   ]
  },
  {
   "cell_type": "code",
   "execution_count": null,
   "id": "a9e8069f-a54e-41ef-9466-3c26184722a0",
   "metadata": {},
   "outputs": [],
   "source": []
  }
 ],
 "metadata": {
  "kernelspec": {
   "display_name": "Python 3 (ipykernel)",
   "language": "python",
   "name": "python3"
  },
  "language_info": {
   "codemirror_mode": {
    "name": "ipython",
    "version": 3
   },
   "file_extension": ".py",
   "mimetype": "text/x-python",
   "name": "python",
   "nbconvert_exporter": "python",
   "pygments_lexer": "ipython3",
   "version": "3.12.6"
  }
 },
 "nbformat": 4,
 "nbformat_minor": 5
}
